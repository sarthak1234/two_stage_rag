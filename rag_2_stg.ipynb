{
 "cells": [
  {
   "cell_type": "code",
   "execution_count": 15,
   "metadata": {},
   "outputs": [
    {
     "data": {
      "text/plain": [
       "'\\nSteps to follow :\\n1. Prompt llm to create multiple similar queries (q)\\n2. for each of the q queries get k similar docs from the data\\n3. get a set(kXq) docs \\n4. Retrieve top k from the total set using bert cross encoder\\n5. Re-order highest ranked in the in beginning and end and least ranked in middle to solve lost in the middle problem.\\n6. use these top k for RAG context \\n'"
      ]
     },
     "execution_count": 15,
     "metadata": {},
     "output_type": "execute_result"
    }
   ],
   "source": [
    "'''\n",
    "Steps to follow :\n",
    "1. Prompt llm to create multiple similar queries (q)\n",
    "2. for each of the q queries get k similar docs from the data\n",
    "3. get a set(kXq) docs \n",
    "4. Retrieve top k from the total set using bert cross encoder\n",
    "5. Re-order highest ranked in the in beginning and end and least ranked in middle to solve lost in the middle problem.\n",
    "6. use these top k for RAG context \n",
    "'''"
   ]
  },
  {
   "cell_type": "code",
   "execution_count": 2,
   "metadata": {},
   "outputs": [],
   "source": [
    "from langchain_core.output_parsers import StrOutputParser\n",
    "from langchain_core.prompts import ChatPromptTemplate\n",
    "from langchain_core.runnables import RunnableParallel, RunnablePassthrough\n",
    "from langchain_openai.chat_models import ChatOpenAI\n",
    "from langchain_openai.embeddings import OpenAIEmbeddings\n",
    "from langchain_community.vectorstores import FAISS\n",
    "from langchain_community.document_loaders import PyPDFLoader\n",
    "from langchain.text_splitter import RecursiveCharacterTextSplitter"
   ]
  },
  {
   "cell_type": "code",
   "execution_count": 4,
   "metadata": {},
   "outputs": [],
   "source": [
    "embeddings = OpenAIEmbeddings()\n",
    "\n",
    "loader = PyPDFLoader(\"/Users/sarthak/Documents/llm_projects/openai_simple_operations/serverless-core.pdf\")\n",
    "docs = loader.load()"
   ]
  },
  {
   "cell_type": "code",
   "execution_count": 5,
   "metadata": {},
   "outputs": [],
   "source": [
    "text_splitter = RecursiveCharacterTextSplitter()\n",
    "documents = text_splitter.split_documents(docs)"
   ]
  },
  {
   "cell_type": "markdown",
   "metadata": {},
   "source": [
    "Create multiple similar queries passing to llms"
   ]
  },
  {
   "cell_type": "code",
   "execution_count": 6,
   "metadata": {},
   "outputs": [],
   "source": [
    "vector = FAISS.from_documents(documents, embeddings)\n",
    "llm = ChatOpenAI()\n",
    "prompt_multiquery = ChatPromptTemplate.from_template(\"\"\"Create  multiple queries similar to the input query given number of queries to create (n) :\n",
    "query : {query}\n",
    "n: {n}\"\"\")"
   ]
  },
  {
   "cell_type": "code",
   "execution_count": 7,
   "metadata": {},
   "outputs": [],
   "source": [
    "retriever = vector.as_retriever()\n",
    "#setup_and_retrieval = RunnableParallel({\"n\":RunnablePassthrough(),\"input_statement\":RunnablePassthrough()})\n",
    "output_parser = StrOutputParser()\n",
    "chain = prompt_multiquery | llm | output_parser\n",
    "\n"
   ]
  },
  {
   "cell_type": "code",
   "execution_count": 8,
   "metadata": {},
   "outputs": [],
   "source": [
    "multiple_queries = chain.invoke({\"query\":\"can you design a image classification system using all the above aws services, mention the steps required for it.\",\"n\":5}).split('\\n')"
   ]
  },
  {
   "cell_type": "code",
   "execution_count": 9,
   "metadata": {},
   "outputs": [],
   "source": [
    "multiquery_ss_results = []\n",
    "for query in multiple_queries : \n",
    "    query_results =  vector.similarity_search(query)\n",
    "    multiquery_ss_results = multiquery_ss_results + [result.page_content for result in query_results ]\n",
    "multiquery_ss_results = list(set(multiquery_ss_results))\n",
    "    "
   ]
  },
  {
   "cell_type": "code",
   "execution_count": 10,
   "metadata": {},
   "outputs": [
    {
     "data": {
      "text/plain": [
       "['Serverless Developer Guide\\nPicking up serverless prerequisites\\nRevised: 2023-03-13\\nBefore you dive in to code, there are some key concepts you need to understand:\\n•Amazon Web Services Account\\n•Programming Language\\n•Development Environment\\n•Cloud Infrastructure\\n•Security Model\\nReview the serverless learning path in the following diagram.\\nTopics are shown in orange pill boxes. Large topics may be broken down into several sub-topics in a \\nblue bubble. Icons represent related services or tools. Essential topics are noted with a green check \\nbox. Important, but not essential, items are noted with a red heart. When a high level orange topic \\nis marked as essential, that means all of the sub-topics are essential too.\\nThis map is a starting point. Not everyone will agree which topics are essential or important, so \\ncheck with your team. Find out which topics are essential or important for your journey.\\n9',\n",
       " 'Serverless Developer Guide\\n•AWS Lambda for compute processing tasks\\n•Amazon Kinesis for collecting, processing, and analyzing real-time and streaming data\\n•Amazon DynamoDB & Amazon S3 for storing and retrieving data and ﬁles\\nStreaming 8',\n",
       " 'Serverless Developer Guide\\n•Image identiﬁcation  — In the previous photo sharing application concept, imagine you want to \\nprovide automatic categorization of images for your users. Images will be queued for processing \\nby Amazon Rekognition. After analysis, faces are detected and your app can use similarity scores \\nto group photos by family members. Objects, scenes, activities, landmarks, and dominant colors \\nare detected and labels are applied to improve categorization and search.\\nServices you’ll likely use:\\n•AWS Lambda for compute processing tasks\\n•AWS Step Functions for managing and orchestrating microservice workﬂows\\n•Amazon Simple Notiﬁcation Service - for message delivery from publishers to subscribers, \\nplus fan out  which is when a message published to a topic is replicated and pushed to multiple \\nendpoints for parallel asynchronous processing\\n•Amazon Simple Queue Service - for creating secure, durable, and available queues for \\nasynchronous processing\\n•Amazon DynamoDB & Amazon S3 for storing and retrieving data and ﬁles\\nSynchronous interactions\\nMicroservice architecture breaks applications into loosely coupled services. Each microservice is \\nindependent, making it easy to scale up a single service or function without needing to scale the \\nentire application. Individual services are loosely coupled, letting independent teams focus on a \\nsingle business process, without the need for them to understand the entire application.\\nMicroservices also let you choose which individual components suit your business needs, giving you \\nthe ﬂexibility to change your selection without rewriting your entire workﬂow. Diﬀerent teams can \\nuse the programming languages and frameworks of their choice to work with their microservice, \\nand this microservice can still communicate with any other in the application through application \\nprogramming interfaces (APIs).\\nExamples:\\n•Websites – Suppose you are creating a website and you want to host the backend logic on \\nLambda. You can invoke your Lambda function over HTTP using Amazon API Gateway as the \\nHTTP endpoint. Now, your web client can invoke the API, and then API Gateway can route the \\nrequest to Lambda.\\nSynchronous interactions 6',\n",
       " \"Serverless Developer Guide\\nIdentifying serverless scenarios\\nRevised: 2023-08-22\\nWe see customers regularly building these types of solutions:\\n•Asynchronous data processing– big data processing, image/video manipulation, web hooks\\n•Synchronous interactions – web apps, web services, microservices, web hooks\\n•Streaming  – processing inbound data streams, from apps, IoT devices\\nSolutions can be built with many services, but for each of these scenarios certain services are more \\nfrequently encountered. Use this to page to focus on which services will be essential for you to \\nlearn.\\nAsynchronous data processing\\nServerless allows you to ingest, process and analyze high volumes of data quickly and eﬃciently.\\nAs the volume of data grows, coming from increasingly diverse sources, organizations ﬁnd they \\nneed to move quickly to process this data to ensure they make faster, well-informed business \\ndecisions. To process data at scale, organizations need to elastically provision resources to manage \\nthe information they receive from mobile devices, applications, satellites, marketing and sales, \\noperational data stores, infrastructure, and more.\\nLearn how to build a scalable serverless data processing solution. Use Amazon Simple Storage \\nService to trigger data processing or load machine learning (ML) models so that AWS Lambda can \\nperform ML inference in real time.\\nExamples:\\n•File processing – Suppose you have a photo sharing application. People use your application \\nto upload photos, and the application stores these user photos in an Amazon S3 bucket. Then, \\nyour application creates a thumbnail version of each user's photos and displays them on the \\nuser's proﬁle page. In this scenario, you may choose to create a Lambda function that creates a \\nthumbnail automatically. Amazon S3 is one of the supported AWS event sources that can publish\\nobject-created events  and invoke your Lambda function. Your Lambda function code can read the \\nphoto object from the Amazon S3 bucket, create a thumbnail version, and then save it in another \\nAmazon S3 bucket.\\nAsynchronous data processing 5\",\n",
       " 'Serverless Developer Guide\\nServerless learning path\\nThe following is a text representation of the key concepts in the preceeding diagram.\\nAmazon Web Services Account (Essential)\\nServerless learning path 10',\n",
       " 'Serverless Developer Guide\\nRelated resources:\\n•Install AWS CLI - to control and manage your AWS services from the command line\\n•Install AWS SAM CLI - to create, deploy, test, and update your serverless code and resources from \\nthe command line\\n•Note: These tools are provided by AWS Cloud9, but you should update to the latest available \\nversions.\\nAmazon Cloud Infrastructure\\n“Regions and Availability Zones and Data Centers. Oh my!”\\nAWS provides services across the globe. You only need to understand how regions, availability \\nzones, and data centers are related so that you can select a region. You will see the region code in \\nURLs and Amazon Resource Names (ARNs), unique identiﬁers for AWS resources.\\nRegions\\nEvery solution you build that runs in the AWS cloud will be deployed to at least one region.\\n•Region – a physical location around the world where we cluster data centers\\n•Availability Zone or “AZ” - one or more discrete data centers with redundant power, networking, \\nand connectivity within  a Region\\n•Data center – a physical location that contains servers, data storage drives, and network \\nequipment\\nAmazon Cloud Infrastructure 15',\n",
       " 'Serverless Developer Guide\\nSummary\\n•You need an Amazon Web Services account to get started.\\n•Python and JavaScript/Typescript are popular programming languages for serverless. You will \\nsee these most frequently in examples, tutorials, and workshops.\\n•Java, C#, Go, Ruby, and PowerShell are available runtimes, but you can also bring your own.\\n•Set up your development environment with your preferred local IDE\\n•AWS data centers are organized into one or more Availability Zones located in multiple regions\\nacross the globe\\n•Region codes and ARNs are used to identify and connect to speciﬁc AWS services and resources\\n•Responsibility for security of serverless solutions is shared between you and AWS.\\nSummary 19',\n",
       " 'Serverless Developer Guide\\nNetworking & Content Delivery\\n•Amazon CloudFront - content delivery network, serving and caching assets in storage\\n•Amazon Route\\xa053 - DNS registry/service\\n•Amazon API Gateway - HTTP & WebSocket connections and integrations\\n•Amazon Virtual Private Cloud - private networking between services in the cloud\\nFront-end Web & Mobile\\n•AWS Amplify - open-source client libraries to build cloud powered mobile and web apps on AWS \\nwith authentication, data store, pub/sub, push notiﬁcations, storage, API built on AppSync\\n•AWS AppSync - managed GraphQL API\\nApplication Integration\\n•AWS Step Functions - orchestration service; useful when you have workﬂows with more than \\none state, need to branch, or run tasks in parallel. The Step Functions service acts as the state \\nmodel for your application.\\n•Amazon EventBridge - integration with AWS & 3rd party services through events\\n•Amazon Simple Queue Service - simple queue service; buﬀering requests\\n•Amazon Simple Notiﬁcation Service - simple notiﬁcation system, publish/subscribe topics, and \\nsending a limited number of SMS/email messages\\n•AWS IoT Core - bi-directional communication for Internet-connected devices (such as sensors, \\nactuators, embedded devices, wireless devices, and smart appliances) to connect to the AWS \\nCloud over MQTT, HTTPS, and LoRaWAN\\n•Amazon Simple Email Service - simple email system, bulk email sending service\\nDatabase & Storage\\n•Amazon DynamoDB - scalable no SQL key/value store\\n•Amazon Simple Storage Service - ﬁle storage\\nNetworking & Content Delivery 34']"
      ]
     },
     "execution_count": 10,
     "metadata": {},
     "output_type": "execute_result"
    }
   ],
   "source": [
    "multiquery_ss_results"
   ]
  },
  {
   "cell_type": "markdown",
   "metadata": {},
   "source": [
    "Re-rank multiqueries using bert cross-encoder"
   ]
  },
  {
   "cell_type": "code",
   "execution_count": 16,
   "metadata": {},
   "outputs": [],
   "source": [
    "from  sentence_transformers.cross_encoder import CrossEncoder\n",
    "model = CrossEncoder(\"cross-encoder/stsb-distilroberta-base\")\n",
    "input_query = \"can you design a image classification system using all the above aws services, mention the steps required for it.\"\n",
    "score_query_pair = [[q,model.predict([[q,input_query]][0])] for q in multiquery_ss_results]"
   ]
  },
  {
   "cell_type": "code",
   "execution_count": 20,
   "metadata": {},
   "outputs": [],
   "source": [
    "score_query_pair.sort(key=lambda x : x[1],reverse=True)"
   ]
  },
  {
   "cell_type": "code",
   "execution_count": 21,
   "metadata": {},
   "outputs": [
    {
     "data": {
      "text/plain": [
       "[['Serverless Developer Guide\\n•Image identiﬁcation  — In the previous photo sharing application concept, imagine you want to \\nprovide automatic categorization of images for your users. Images will be queued for processing \\nby Amazon Rekognition. After analysis, faces are detected and your app can use similarity scores \\nto group photos by family members. Objects, scenes, activities, landmarks, and dominant colors \\nare detected and labels are applied to improve categorization and search.\\nServices you’ll likely use:\\n•AWS Lambda for compute processing tasks\\n•AWS Step Functions for managing and orchestrating microservice workﬂows\\n•Amazon Simple Notiﬁcation Service - for message delivery from publishers to subscribers, \\nplus fan out  which is when a message published to a topic is replicated and pushed to multiple \\nendpoints for parallel asynchronous processing\\n•Amazon Simple Queue Service - for creating secure, durable, and available queues for \\nasynchronous processing\\n•Amazon DynamoDB & Amazon S3 for storing and retrieving data and ﬁles\\nSynchronous interactions\\nMicroservice architecture breaks applications into loosely coupled services. Each microservice is \\nindependent, making it easy to scale up a single service or function without needing to scale the \\nentire application. Individual services are loosely coupled, letting independent teams focus on a \\nsingle business process, without the need for them to understand the entire application.\\nMicroservices also let you choose which individual components suit your business needs, giving you \\nthe ﬂexibility to change your selection without rewriting your entire workﬂow. Diﬀerent teams can \\nuse the programming languages and frameworks of their choice to work with their microservice, \\nand this microservice can still communicate with any other in the application through application \\nprogramming interfaces (APIs).\\nExamples:\\n•Websites – Suppose you are creating a website and you want to host the backend logic on \\nLambda. You can invoke your Lambda function over HTTP using Amazon API Gateway as the \\nHTTP endpoint. Now, your web client can invoke the API, and then API Gateway can route the \\nrequest to Lambda.\\nSynchronous interactions 6',\n",
       "  0.6422646],\n",
       " [\"Serverless Developer Guide\\nIdentifying serverless scenarios\\nRevised: 2023-08-22\\nWe see customers regularly building these types of solutions:\\n•Asynchronous data processing– big data processing, image/video manipulation, web hooks\\n•Synchronous interactions – web apps, web services, microservices, web hooks\\n•Streaming  – processing inbound data streams, from apps, IoT devices\\nSolutions can be built with many services, but for each of these scenarios certain services are more \\nfrequently encountered. Use this to page to focus on which services will be essential for you to \\nlearn.\\nAsynchronous data processing\\nServerless allows you to ingest, process and analyze high volumes of data quickly and eﬃciently.\\nAs the volume of data grows, coming from increasingly diverse sources, organizations ﬁnd they \\nneed to move quickly to process this data to ensure they make faster, well-informed business \\ndecisions. To process data at scale, organizations need to elastically provision resources to manage \\nthe information they receive from mobile devices, applications, satellites, marketing and sales, \\noperational data stores, infrastructure, and more.\\nLearn how to build a scalable serverless data processing solution. Use Amazon Simple Storage \\nService to trigger data processing or load machine learning (ML) models so that AWS Lambda can \\nperform ML inference in real time.\\nExamples:\\n•File processing – Suppose you have a photo sharing application. People use your application \\nto upload photos, and the application stores these user photos in an Amazon S3 bucket. Then, \\nyour application creates a thumbnail version of each user's photos and displays them on the \\nuser's proﬁle page. In this scenario, you may choose to create a Lambda function that creates a \\nthumbnail automatically. Amazon S3 is one of the supported AWS event sources that can publish\\nobject-created events  and invoke your Lambda function. Your Lambda function code can read the \\nphoto object from the Amazon S3 bucket, create a thumbnail version, and then save it in another \\nAmazon S3 bucket.\\nAsynchronous data processing 5\",\n",
       "  0.59239095],\n",
       " ['Serverless Developer Guide\\nRelated resources:\\n•Install AWS CLI - to control and manage your AWS services from the command line\\n•Install AWS SAM CLI - to create, deploy, test, and update your serverless code and resources from \\nthe command line\\n•Note: These tools are provided by AWS Cloud9, but you should update to the latest available \\nversions.\\nAmazon Cloud Infrastructure\\n“Regions and Availability Zones and Data Centers. Oh my!”\\nAWS provides services across the globe. You only need to understand how regions, availability \\nzones, and data centers are related so that you can select a region. You will see the region code in \\nURLs and Amazon Resource Names (ARNs), unique identiﬁers for AWS resources.\\nRegions\\nEvery solution you build that runs in the AWS cloud will be deployed to at least one region.\\n•Region – a physical location around the world where we cluster data centers\\n•Availability Zone or “AZ” - one or more discrete data centers with redundant power, networking, \\nand connectivity within  a Region\\n•Data center – a physical location that contains servers, data storage drives, and network \\nequipment\\nAmazon Cloud Infrastructure 15',\n",
       "  0.5244345],\n",
       " ['Serverless Developer Guide\\nNetworking & Content Delivery\\n•Amazon CloudFront - content delivery network, serving and caching assets in storage\\n•Amazon Route\\xa053 - DNS registry/service\\n•Amazon API Gateway - HTTP & WebSocket connections and integrations\\n•Amazon Virtual Private Cloud - private networking between services in the cloud\\nFront-end Web & Mobile\\n•AWS Amplify - open-source client libraries to build cloud powered mobile and web apps on AWS \\nwith authentication, data store, pub/sub, push notiﬁcations, storage, API built on AppSync\\n•AWS AppSync - managed GraphQL API\\nApplication Integration\\n•AWS Step Functions - orchestration service; useful when you have workﬂows with more than \\none state, need to branch, or run tasks in parallel. The Step Functions service acts as the state \\nmodel for your application.\\n•Amazon EventBridge - integration with AWS & 3rd party services through events\\n•Amazon Simple Queue Service - simple queue service; buﬀering requests\\n•Amazon Simple Notiﬁcation Service - simple notiﬁcation system, publish/subscribe topics, and \\nsending a limited number of SMS/email messages\\n•AWS IoT Core - bi-directional communication for Internet-connected devices (such as sensors, \\nactuators, embedded devices, wireless devices, and smart appliances) to connect to the AWS \\nCloud over MQTT, HTTPS, and LoRaWAN\\n•Amazon Simple Email Service - simple email system, bulk email sending service\\nDatabase & Storage\\n•Amazon DynamoDB - scalable no SQL key/value store\\n•Amazon Simple Storage Service - ﬁle storage\\nNetworking & Content Delivery 34',\n",
       "  0.51002157],\n",
       " ['Serverless Developer Guide\\nPicking up serverless prerequisites\\nRevised: 2023-03-13\\nBefore you dive in to code, there are some key concepts you need to understand:\\n•Amazon Web Services Account\\n•Programming Language\\n•Development Environment\\n•Cloud Infrastructure\\n•Security Model\\nReview the serverless learning path in the following diagram.\\nTopics are shown in orange pill boxes. Large topics may be broken down into several sub-topics in a \\nblue bubble. Icons represent related services or tools. Essential topics are noted with a green check \\nbox. Important, but not essential, items are noted with a red heart. When a high level orange topic \\nis marked as essential, that means all of the sub-topics are essential too.\\nThis map is a starting point. Not everyone will agree which topics are essential or important, so \\ncheck with your team. Find out which topics are essential or important for your journey.\\n9',\n",
       "  0.46962968],\n",
       " ['Serverless Developer Guide\\nServerless learning path\\nThe following is a text representation of the key concepts in the preceeding diagram.\\nAmazon Web Services Account (Essential)\\nServerless learning path 10',\n",
       "  0.4472555],\n",
       " ['Serverless Developer Guide\\nSummary\\n•You need an Amazon Web Services account to get started.\\n•Python and JavaScript/Typescript are popular programming languages for serverless. You will \\nsee these most frequently in examples, tutorials, and workshops.\\n•Java, C#, Go, Ruby, and PowerShell are available runtimes, but you can also bring your own.\\n•Set up your development environment with your preferred local IDE\\n•AWS data centers are organized into one or more Availability Zones located in multiple regions\\nacross the globe\\n•Region codes and ARNs are used to identify and connect to speciﬁc AWS services and resources\\n•Responsibility for security of serverless solutions is shared between you and AWS.\\nSummary 19',\n",
       "  0.41192797],\n",
       " ['Serverless Developer Guide\\n•AWS Lambda for compute processing tasks\\n•Amazon Kinesis for collecting, processing, and analyzing real-time and streaming data\\n•Amazon DynamoDB & Amazon S3 for storing and retrieving data and ﬁles\\nStreaming 8',\n",
       "  0.354201]]"
      ]
     },
     "execution_count": 21,
     "metadata": {},
     "output_type": "execute_result"
    }
   ],
   "source": [
    "score_query_pair"
   ]
  },
  {
   "cell_type": "markdown",
   "metadata": {},
   "source": [
    "Limp re-ranking"
   ]
  },
  {
   "cell_type": "code",
   "execution_count": 22,
   "metadata": {},
   "outputs": [],
   "source": [
    "def limp_rerank(sorted_list):\n",
    "    beginning_list = [sorted_list[i] for i in range(0,len(sorted_list),2)]\n",
    "    end_list = [sorted_list[i] for i in range(1,len(sorted_list),2)][::-1]\n",
    "    return  beginning_list + end_list"
   ]
  },
  {
   "cell_type": "code",
   "execution_count": 25,
   "metadata": {},
   "outputs": [],
   "source": [
    "query_reranked = limp_rerank(score_query_pair)"
   ]
  },
  {
   "cell_type": "code",
   "execution_count": 27,
   "metadata": {},
   "outputs": [],
   "source": [
    "query_reranked = [q[0] for q in query_reranked]"
   ]
  },
  {
   "cell_type": "code",
   "execution_count": 28,
   "metadata": {},
   "outputs": [
    {
     "data": {
      "text/plain": [
       "['Serverless Developer Guide\\n•Image identiﬁcation  — In the previous photo sharing application concept, imagine you want to \\nprovide automatic categorization of images for your users. Images will be queued for processing \\nby Amazon Rekognition. After analysis, faces are detected and your app can use similarity scores \\nto group photos by family members. Objects, scenes, activities, landmarks, and dominant colors \\nare detected and labels are applied to improve categorization and search.\\nServices you’ll likely use:\\n•AWS Lambda for compute processing tasks\\n•AWS Step Functions for managing and orchestrating microservice workﬂows\\n•Amazon Simple Notiﬁcation Service - for message delivery from publishers to subscribers, \\nplus fan out  which is when a message published to a topic is replicated and pushed to multiple \\nendpoints for parallel asynchronous processing\\n•Amazon Simple Queue Service - for creating secure, durable, and available queues for \\nasynchronous processing\\n•Amazon DynamoDB & Amazon S3 for storing and retrieving data and ﬁles\\nSynchronous interactions\\nMicroservice architecture breaks applications into loosely coupled services. Each microservice is \\nindependent, making it easy to scale up a single service or function without needing to scale the \\nentire application. Individual services are loosely coupled, letting independent teams focus on a \\nsingle business process, without the need for them to understand the entire application.\\nMicroservices also let you choose which individual components suit your business needs, giving you \\nthe ﬂexibility to change your selection without rewriting your entire workﬂow. Diﬀerent teams can \\nuse the programming languages and frameworks of their choice to work with their microservice, \\nand this microservice can still communicate with any other in the application through application \\nprogramming interfaces (APIs).\\nExamples:\\n•Websites – Suppose you are creating a website and you want to host the backend logic on \\nLambda. You can invoke your Lambda function over HTTP using Amazon API Gateway as the \\nHTTP endpoint. Now, your web client can invoke the API, and then API Gateway can route the \\nrequest to Lambda.\\nSynchronous interactions 6',\n",
       " 'Serverless Developer Guide\\nRelated resources:\\n•Install AWS CLI - to control and manage your AWS services from the command line\\n•Install AWS SAM CLI - to create, deploy, test, and update your serverless code and resources from \\nthe command line\\n•Note: These tools are provided by AWS Cloud9, but you should update to the latest available \\nversions.\\nAmazon Cloud Infrastructure\\n“Regions and Availability Zones and Data Centers. Oh my!”\\nAWS provides services across the globe. You only need to understand how regions, availability \\nzones, and data centers are related so that you can select a region. You will see the region code in \\nURLs and Amazon Resource Names (ARNs), unique identiﬁers for AWS resources.\\nRegions\\nEvery solution you build that runs in the AWS cloud will be deployed to at least one region.\\n•Region – a physical location around the world where we cluster data centers\\n•Availability Zone or “AZ” - one or more discrete data centers with redundant power, networking, \\nand connectivity within  a Region\\n•Data center – a physical location that contains servers, data storage drives, and network \\nequipment\\nAmazon Cloud Infrastructure 15',\n",
       " 'Serverless Developer Guide\\nPicking up serverless prerequisites\\nRevised: 2023-03-13\\nBefore you dive in to code, there are some key concepts you need to understand:\\n•Amazon Web Services Account\\n•Programming Language\\n•Development Environment\\n•Cloud Infrastructure\\n•Security Model\\nReview the serverless learning path in the following diagram.\\nTopics are shown in orange pill boxes. Large topics may be broken down into several sub-topics in a \\nblue bubble. Icons represent related services or tools. Essential topics are noted with a green check \\nbox. Important, but not essential, items are noted with a red heart. When a high level orange topic \\nis marked as essential, that means all of the sub-topics are essential too.\\nThis map is a starting point. Not everyone will agree which topics are essential or important, so \\ncheck with your team. Find out which topics are essential or important for your journey.\\n9',\n",
       " 'Serverless Developer Guide\\nSummary\\n•You need an Amazon Web Services account to get started.\\n•Python and JavaScript/Typescript are popular programming languages for serverless. You will \\nsee these most frequently in examples, tutorials, and workshops.\\n•Java, C#, Go, Ruby, and PowerShell are available runtimes, but you can also bring your own.\\n•Set up your development environment with your preferred local IDE\\n•AWS data centers are organized into one or more Availability Zones located in multiple regions\\nacross the globe\\n•Region codes and ARNs are used to identify and connect to speciﬁc AWS services and resources\\n•Responsibility for security of serverless solutions is shared between you and AWS.\\nSummary 19',\n",
       " 'Serverless Developer Guide\\n•AWS Lambda for compute processing tasks\\n•Amazon Kinesis for collecting, processing, and analyzing real-time and streaming data\\n•Amazon DynamoDB & Amazon S3 for storing and retrieving data and ﬁles\\nStreaming 8',\n",
       " 'Serverless Developer Guide\\nServerless learning path\\nThe following is a text representation of the key concepts in the preceeding diagram.\\nAmazon Web Services Account (Essential)\\nServerless learning path 10',\n",
       " 'Serverless Developer Guide\\nNetworking & Content Delivery\\n•Amazon CloudFront - content delivery network, serving and caching assets in storage\\n•Amazon Route\\xa053 - DNS registry/service\\n•Amazon API Gateway - HTTP & WebSocket connections and integrations\\n•Amazon Virtual Private Cloud - private networking between services in the cloud\\nFront-end Web & Mobile\\n•AWS Amplify - open-source client libraries to build cloud powered mobile and web apps on AWS \\nwith authentication, data store, pub/sub, push notiﬁcations, storage, API built on AppSync\\n•AWS AppSync - managed GraphQL API\\nApplication Integration\\n•AWS Step Functions - orchestration service; useful when you have workﬂows with more than \\none state, need to branch, or run tasks in parallel. The Step Functions service acts as the state \\nmodel for your application.\\n•Amazon EventBridge - integration with AWS & 3rd party services through events\\n•Amazon Simple Queue Service - simple queue service; buﬀering requests\\n•Amazon Simple Notiﬁcation Service - simple notiﬁcation system, publish/subscribe topics, and \\nsending a limited number of SMS/email messages\\n•AWS IoT Core - bi-directional communication for Internet-connected devices (such as sensors, \\nactuators, embedded devices, wireless devices, and smart appliances) to connect to the AWS \\nCloud over MQTT, HTTPS, and LoRaWAN\\n•Amazon Simple Email Service - simple email system, bulk email sending service\\nDatabase & Storage\\n•Amazon DynamoDB - scalable no SQL key/value store\\n•Amazon Simple Storage Service - ﬁle storage\\nNetworking & Content Delivery 34',\n",
       " \"Serverless Developer Guide\\nIdentifying serverless scenarios\\nRevised: 2023-08-22\\nWe see customers regularly building these types of solutions:\\n•Asynchronous data processing– big data processing, image/video manipulation, web hooks\\n•Synchronous interactions – web apps, web services, microservices, web hooks\\n•Streaming  – processing inbound data streams, from apps, IoT devices\\nSolutions can be built with many services, but for each of these scenarios certain services are more \\nfrequently encountered. Use this to page to focus on which services will be essential for you to \\nlearn.\\nAsynchronous data processing\\nServerless allows you to ingest, process and analyze high volumes of data quickly and eﬃciently.\\nAs the volume of data grows, coming from increasingly diverse sources, organizations ﬁnd they \\nneed to move quickly to process this data to ensure they make faster, well-informed business \\ndecisions. To process data at scale, organizations need to elastically provision resources to manage \\nthe information they receive from mobile devices, applications, satellites, marketing and sales, \\noperational data stores, infrastructure, and more.\\nLearn how to build a scalable serverless data processing solution. Use Amazon Simple Storage \\nService to trigger data processing or load machine learning (ML) models so that AWS Lambda can \\nperform ML inference in real time.\\nExamples:\\n•File processing – Suppose you have a photo sharing application. People use your application \\nto upload photos, and the application stores these user photos in an Amazon S3 bucket. Then, \\nyour application creates a thumbnail version of each user's photos and displays them on the \\nuser's proﬁle page. In this scenario, you may choose to create a Lambda function that creates a \\nthumbnail automatically. Amazon S3 is one of the supported AWS event sources that can publish\\nobject-created events  and invoke your Lambda function. Your Lambda function code can read the \\nphoto object from the Amazon S3 bucket, create a thumbnail version, and then save it in another \\nAmazon S3 bucket.\\nAsynchronous data processing 5\"]"
      ]
     },
     "execution_count": 28,
     "metadata": {},
     "output_type": "execute_result"
    }
   ],
   "source": [
    "query_reranked"
   ]
  },
  {
   "cell_type": "code",
   "execution_count": 29,
   "metadata": {},
   "outputs": [],
   "source": [
    "context = ('\\n').join(query_reranked)"
   ]
  },
  {
   "cell_type": "code",
   "execution_count": 31,
   "metadata": {},
   "outputs": [],
   "source": [
    "llm = ChatOpenAI()\n",
    "prompt = ChatPromptTemplate.from_template(\"\"\"Answer the following question based only on the provided context:\n",
    "\n",
    "<context>\n",
    "{context}\n",
    "</context>\n",
    "\n",
    "Question: {input}\"\"\")"
   ]
  },
  {
   "cell_type": "code",
   "execution_count": 33,
   "metadata": {},
   "outputs": [],
   "source": [
    "output_parser = StrOutputParser()\n",
    "chain = prompt | llm | output_parser\n",
    "output = chain.invoke({\"input\":\"can you design a image classification system using all the above aws services, mention the steps required for it.\",\"context\":context})"
   ]
  },
  {
   "cell_type": "code",
   "execution_count": 34,
   "metadata": {},
   "outputs": [
    {
     "name": "stdout",
     "output_type": "stream",
     "text": [
      "To design an image classification system using the mentioned AWS services, follow these steps:\n",
      "\n",
      "1. Set up an Amazon Web Services account if you don't already have one.\n",
      "2. Use AWS Lambda for compute processing tasks to create functions that will process the images for classification.\n",
      "3. Utilize AWS Step Functions for managing and orchestrating microservice workflows to control the flow of image processing tasks.\n",
      "4. Configure Amazon Simple Notification Service for message delivery from publishers to subscribers, including fan-out for parallel asynchronous processing.\n",
      "5. Use Amazon Simple Queue Service for creating secure, durable, and available queues for asynchronous processing of images.\n",
      "6. Store and retrieve data and files using Amazon DynamoDB and Amazon S3.\n",
      "7. Configure Amazon Rekognition to analyze the images and detect faces, objects, scenes, activities, landmarks, and dominant colors.\n",
      "8. Group photos by family members using similarity scores provided by Amazon Rekognition.\n",
      "9. Apply labels to the detected objects, scenes, activities, landmarks, and dominant colors to improve categorization and search.\n",
      "10. Use Amazon API Gateway as the HTTP endpoint to allow your web client to invoke the API, which will route the request to Lambda for image processing.\n",
      "11. Ensure that the system is scalable and loosely coupled, allowing for independent teams to focus on specific business processes.\n",
      "12. Test the system and make adjustments as needed to optimize performance and accuracy in image classification.\n"
     ]
    }
   ],
   "source": [
    "print (output)"
   ]
  }
 ],
 "metadata": {
  "kernelspec": {
   "display_name": "base",
   "language": "python",
   "name": "python3"
  },
  "language_info": {
   "codemirror_mode": {
    "name": "ipython",
    "version": 3
   },
   "file_extension": ".py",
   "mimetype": "text/x-python",
   "name": "python",
   "nbconvert_exporter": "python",
   "pygments_lexer": "ipython3",
   "version": "3.8.3"
  }
 },
 "nbformat": 4,
 "nbformat_minor": 2
}
